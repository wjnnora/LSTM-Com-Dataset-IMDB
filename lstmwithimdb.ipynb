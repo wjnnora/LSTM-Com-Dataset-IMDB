{
 "cells": [
  {
   "cell_type": "markdown",
   "metadata": {},
   "source": [
    "# Treinando LSTMs com o dataset IMDB"
   ]
  },
  {
   "cell_type": "code",
   "execution_count": 1,
   "metadata": {},
   "outputs": [],
   "source": [
    "import tensorflow as tf\n",
    "import keras\n",
    "from keras.models import Sequential\n",
    "from keras.layers import Dense, LSTM, Conv1D, MaxPool1D, Dropout, Embedding\n",
    "from keras.preprocessing import sequence\n",
    "from keras.callbacks import EarlyStopping\n",
    "import matplotlib.pyplot as plt\n",
    "import sys\n",
    "import warnings"
   ]
  },
  {
   "cell_type": "code",
   "execution_count": 2,
   "metadata": {},
   "outputs": [],
   "source": [
    "# Desativa os avisos\n",
    "if not sys.warnoptions:\n",
    "    warnings.simplefilter(\"ignore\")"
   ]
  },
  {
   "cell_type": "code",
   "execution_count": 3,
   "metadata": {},
   "outputs": [],
   "source": [
    "# Carrega o dataset contendo as 5000 palavras mais utilizadas do dataset\n",
    "(x_train, y_train), (x_test, y_test) = keras.datasets.imdb.load_data(num_words = 5000)"
   ]
  },
  {
   "cell_type": "code",
   "execution_count": 4,
   "metadata": {},
   "outputs": [],
   "source": [
    "# Separando os dados de treino\n",
    "x_aux, y_aux = x_test, y_test\n",
    "x_test = x_aux[:15000]\n",
    "y_test = y_aux[:15000]\n",
    "x_validation = x_aux[15000:]\n",
    "y_validation = y_aux[15000:]\n",
    "\n",
    "del x_aux, y_aux"
   ]
  },
  {
   "cell_type": "code",
   "execution_count": 5,
   "metadata": {},
   "outputs": [
    {
     "name": "stdout",
     "output_type": "stream",
     "text": [
      "X train:  25000\n",
      "Y train:  25000\n",
      "X test:  15000\n",
      "Y test:  15000\n",
      "X validation:  10000\n",
      "Y validation:  10000\n"
     ]
    }
   ],
   "source": [
    "# Exibindo a quantidade de listas dentro do dataset\n",
    "print(\"X train: \", len(x_train))\n",
    "print(\"Y train: \", len(y_train))\n",
    "print(\"X test: \", len(x_test))\n",
    "print(\"Y test: \", len(y_test))\n",
    "print(\"X validation: \", len(x_validation))\n",
    "print(\"Y validation: \", len(y_validation))"
   ]
  },
  {
   "cell_type": "code",
   "execution_count": 6,
   "metadata": {},
   "outputs": [
    {
     "name": "stdout",
     "output_type": "stream",
     "text": [
      "Comprimento lista : 218 - Target: 1\n",
      "Comprimento lista : 189 - Target: 0\n",
      "Comprimento lista : 141 - Target: 0\n",
      "Comprimento lista : 550 - Target: 1\n",
      "Comprimento lista : 147 - Target: 0\n",
      "Comprimento lista : 43 - Target: 0\n",
      "Comprimento lista : 123 - Target: 1\n",
      "Comprimento lista : 562 - Target: 0\n",
      "Comprimento lista : 233 - Target: 1\n",
      "Comprimento lista : 130 - Target: 0\n"
     ]
    }
   ],
   "source": [
    "# Exibindo o comprimento das 10 primeiras listas do dataset\n",
    "for l, t in zip(x_train[:10], y_train[:10]):\n",
    "    print(f\"Comprimento lista : {len(l)} - Target: {t}\")"
   ]
  },
  {
   "cell_type": "markdown",
   "metadata": {},
   "source": [
    "Para o treinamento será necessário deixar todas as listas no mesmo tamanho."
   ]
  },
  {
   "cell_type": "code",
   "execution_count": 7,
   "metadata": {},
   "outputs": [],
   "source": [
    "# Truncando as sequências de entrada de treinamento e teste para ficarem todas no mesmo tamanho\n",
    "# O modelo aprenderá que valores 0 não possuem informação\n",
    "x_train = sequence.pad_sequences(x_train, maxlen=500)\n",
    "x_test = sequence.pad_sequences(x_test, maxlen=500)\n",
    "x_validation = sequence.pad_sequences(x_validation, maxlen=500)"
   ]
  },
  {
   "cell_type": "code",
   "execution_count": 8,
   "metadata": {},
   "outputs": [
    {
     "name": "stdout",
     "output_type": "stream",
     "text": [
      "Comprimento da lista: 500 - Target: 1\n",
      "Comprimento da lista: 500 - Target: 0\n",
      "Comprimento da lista: 500 - Target: 0\n",
      "Comprimento da lista: 500 - Target: 1\n",
      "Comprimento da lista: 500 - Target: 0\n",
      "Comprimento da lista: 500 - Target: 0\n",
      "Comprimento da lista: 500 - Target: 1\n",
      "Comprimento da lista: 500 - Target: 0\n",
      "Comprimento da lista: 500 - Target: 1\n",
      "Comprimento da lista: 500 - Target: 0\n"
     ]
    }
   ],
   "source": [
    "# Verificando novamente as 10 primeiras listas do dataset de treino\n",
    "for x, y in zip(x_train[:10], y_train[:10]):\n",
    "    print(f\"Comprimento da lista: {len(x)} - Target: {y}\")"
   ]
  },
  {
   "cell_type": "markdown",
   "metadata": {},
   "source": [
    "Agora sim está adequado para o treinamento."
   ]
  },
  {
   "cell_type": "markdown",
   "metadata": {},
   "source": [
    "## Definindo algumas funções "
   ]
  },
  {
   "cell_type": "code",
   "execution_count": 9,
   "metadata": {},
   "outputs": [],
   "source": [
    "def exibir_performance_dados_teste(loss, accuracy):\n",
    "    print(\"Loss: %.2f\" % (loss * 100))\n",
    "    print(\"Accuracy: %.2f\" % (accuracy * 100))"
   ]
  },
  {
   "cell_type": "code",
   "execution_count": 10,
   "metadata": {},
   "outputs": [],
   "source": [
    "def exibir_evolucao_treino_validacao(train_hist, train, validation):\n",
    "    plt.plot(train_hist.history[train])\n",
    "    plt.plot(train_hist.history[validation])\n",
    "    plt.title(\"Histórico do treinamento\")\n",
    "    plt.ylabel(train)\n",
    "    plt.xlabel(\"epoch\")\n",
    "    plt.legend(['train', 'validation'], loc = 'upper left')\n",
    "    plt.show()"
   ]
  },
  {
   "cell_type": "markdown",
   "metadata": {},
   "source": [
    "# Criando vários modelos"
   ]
  },
  {
   "cell_type": "markdown",
   "metadata": {},
   "source": [
    "## LSTM"
   ]
  },
  {
   "cell_type": "code",
   "execution_count": 11,
   "metadata": {},
   "outputs": [],
   "source": [
    "# Criando o primeiro modelo\n",
    "model1 = Sequential()\n",
    "\n",
    "# Parâmetros:\n",
    "# input_dim = tamanho do vocabulário do dataset. Nesse caso, 5000.\n",
    "# output_dim = tamanho do vetor para representar cada palavra.\n",
    "# input_length = tamanho de cada vetor de saída.\n",
    "model1.add(Embedding(input_dim = 5000, output_dim = 64, input_length = 500))\n",
    "\n",
    "# Camada LSTM com 100 neurônios\n",
    "model1.add(LSTM(100))\n",
    "\n",
    "# Camada de saída com um neurônio e função sigmoid\n",
    "model1.add(Dense(1, activation = 'sigmoid'))"
   ]
  },
  {
   "cell_type": "code",
   "execution_count": 12,
   "metadata": {},
   "outputs": [],
   "source": [
    "# Compilando o modelo\n",
    "model1.compile(loss = keras.losses.binary_crossentropy, optimizer = 'adam', metrics = ['accuracy'])"
   ]
  },
  {
   "cell_type": "code",
   "execution_count": 13,
   "metadata": {},
   "outputs": [
    {
     "name": "stdout",
     "output_type": "stream",
     "text": [
      "Model: \"sequential\"\n",
      "_________________________________________________________________\n",
      "Layer (type)                 Output Shape              Param #   \n",
      "=================================================================\n",
      "embedding (Embedding)        (None, 500, 64)           320000    \n",
      "_________________________________________________________________\n",
      "lstm (LSTM)                  (None, 100)               66000     \n",
      "_________________________________________________________________\n",
      "dense (Dense)                (None, 1)                 101       \n",
      "=================================================================\n",
      "Total params: 386,101\n",
      "Trainable params: 386,101\n",
      "Non-trainable params: 0\n",
      "_________________________________________________________________\n"
     ]
    }
   ],
   "source": [
    "# Verificando a arquitetura da rede\n",
    "model1.summary()"
   ]
  },
  {
   "cell_type": "code",
   "execution_count": 14,
   "metadata": {},
   "outputs": [
    {
     "name": "stdout",
     "output_type": "stream",
     "text": [
      "CPU times: user 9 µs, sys: 1e+03 ns, total: 10 µs\n",
      "Wall time: 20 µs\n",
      "Epoch 1/10\n",
      "196/196 [==============================] - 8s 39ms/step - loss: 0.5168 - accuracy: 0.7442 - val_loss: 0.3653 - val_accuracy: 0.8452\n",
      "Epoch 2/10\n",
      "196/196 [==============================] - 7s 37ms/step - loss: 0.3466 - accuracy: 0.8603 - val_loss: 0.3242 - val_accuracy: 0.8710\n",
      "Epoch 3/10\n",
      "196/196 [==============================] - 7s 37ms/step - loss: 0.2494 - accuracy: 0.9022 - val_loss: 0.3101 - val_accuracy: 0.8673\n",
      "Epoch 4/10\n",
      "196/196 [==============================] - 7s 37ms/step - loss: 0.2076 - accuracy: 0.9226 - val_loss: 0.2967 - val_accuracy: 0.8836\n",
      "Epoch 5/10\n",
      "196/196 [==============================] - 7s 37ms/step - loss: 0.1868 - accuracy: 0.9306 - val_loss: 0.3059 - val_accuracy: 0.8771\n",
      "Epoch 6/10\n",
      "196/196 [==============================] - 7s 37ms/step - loss: 0.1650 - accuracy: 0.9398 - val_loss: 0.3351 - val_accuracy: 0.8644\n",
      "Epoch 7/10\n",
      "196/196 [==============================] - 7s 37ms/step - loss: 0.1466 - accuracy: 0.9456 - val_loss: 0.4005 - val_accuracy: 0.8700\n",
      "Epoch 8/10\n",
      "196/196 [==============================] - 7s 37ms/step - loss: 0.1446 - accuracy: 0.9469 - val_loss: 0.3587 - val_accuracy: 0.8679\n",
      "Epoch 9/10\n",
      "196/196 [==============================] - 7s 37ms/step - loss: 0.1431 - accuracy: 0.9477 - val_loss: 0.3753 - val_accuracy: 0.8604\n",
      "Epoch 10/10\n",
      "196/196 [==============================] - 7s 37ms/step - loss: 0.1583 - accuracy: 0.9395 - val_loss: 0.3555 - val_accuracy: 0.8663\n"
     ]
    }
   ],
   "source": [
    "%time\n",
    "\n",
    "# Treinando o modelo\n",
    "hist = model1.fit(x_train, y_train, validation_data=(x_validation, y_validation), batch_size = 128, epochs = 10)"
   ]
  },
  {
   "cell_type": "code",
   "execution_count": 15,
   "metadata": {},
   "outputs": [
    {
     "name": "stdout",
     "output_type": "stream",
     "text": [
      "469/469 [==============================] - 5s 10ms/step - loss: 0.3839 - accuracy: 0.8585\n",
      "Loss: 38.39\n",
      "Accuracy: 85.85\n"
     ]
    }
   ],
   "source": [
    "# Avaliando o modelo\n",
    "loss, accuracy = model1.evaluate(x_test, y_test)\n",
    "\n",
    "exibir_performance_dados_teste(loss, accuracy)"
   ]
  },
  {
   "cell_type": "code",
   "execution_count": 16,
   "metadata": {},
   "outputs": [
    {
     "data": {
      "image/png": "[encoded data removed]",
      "text/plain": [
       "<Figure size 432x288 with 1 Axes>"
      ]
     },
     "metadata": {
      "needs_background": "light"
     },
     "output_type": "display_data"
    }
   ],
   "source": [
    "# Exibindo a evolução dos dados de treino e validação\n",
    "exibir_evolucao_treino_validacao(hist, 'accuracy', 'val_accuracy')"
   ]
  },
  {
   "cell_type": "markdown",
   "metadata": {},
   "source": [
    "## LSTM com técnica de regulização Dropout"
   ]
  },
  {
   "cell_type": "markdown",
   "metadata": {},
   "source": [
    "O objetivo do segundo modelo é melhorar a generalização do modelo aplicando a técnica de regularização Dropout."
   ]
  },
  {
   "cell_type": "code",
   "execution_count": 18,
   "metadata": {},
   "outputs": [],
   "source": [
    "# Criando o modelo\n",
    "model2 = Sequential()\n",
    "\n",
    "# Parâmetros:\n",
    "# input_dim = tamanho do vocabulário do dataset. Nesse caso, 5000.\n",
    "# output_dim = tamanho do vetor para representar cada palavra.\n",
    "# input_length = tamanho de cada vetor de saída.\n",
    "model2.add(Embedding(input_dim = 5000, output_dim = 64, input_length = 500))\n",
    "\n",
    "# Camada Dropout com 25% de drop\n",
    "model2.add(Dropout(0.25))\n",
    "\n",
    "# Camada LSTM com 100 neurônios\n",
    "model2.add(LSTM(100))\n",
    "\n",
    "# Camada Dropout com 25% de drop\n",
    "model2.add(Dropout(0.25))\n",
    "\n",
    "# Última camada com 1 neurônio de saída e função de ativação sigmoid\n",
    "model2.add(Dense(1, activation = 'sigmoid'))"
   ]
  },
  {
   "cell_type": "code",
   "execution_count": 19,
   "metadata": {},
   "outputs": [],
   "source": [
    "# Compilando o modelo\n",
    "model2.compile(loss = 'binary_crossentropy', optimizer = 'adam', metrics = ['accuracy'])"
   ]
  },
  {
   "cell_type": "code",
   "execution_count": 20,
   "metadata": {},
   "outputs": [
    {
     "name": "stdout",
     "output_type": "stream",
     "text": [
      "Model: \"sequential_2\"\n",
      "_________________________________________________________________\n",
      "Layer (type)                 Output Shape              Param #   \n",
      "=================================================================\n",
      "embedding_2 (Embedding)      (None, 500, 64)           320000    \n",
      "_________________________________________________________________\n",
      "dropout_2 (Dropout)          (None, 500, 64)           0         \n",
      "_________________________________________________________________\n",
      "lstm_2 (LSTM)                (None, 100)               66000     \n",
      "_________________________________________________________________\n",
      "dropout_3 (Dropout)          (None, 100)               0         \n",
      "_________________________________________________________________\n",
      "dense_2 (Dense)              (None, 1)                 101       \n",
      "=================================================================\n",
      "Total params: 386,101\n",
      "Trainable params: 386,101\n",
      "Non-trainable params: 0\n",
      "_________________________________________________________________\n"
     ]
    }
   ],
   "source": [
    "# Visualizando a arquitetura da rede\n",
    "model2.summary()"
   ]
  },
  {
   "cell_type": "code",
   "execution_count": 21,
   "metadata": {},
   "outputs": [
    {
     "name": "stdout",
     "output_type": "stream",
     "text": [
      "CPU times: user 12 µs, sys: 0 ns, total: 12 µs\n",
      "Wall time: 25.5 µs\n",
      "Epoch 1/10\n",
      "196/196 [==============================] - 8s 39ms/step - loss: 0.5290 - accuracy: 0.7239 - val_loss: 0.3568 - val_accuracy: 0.8521\n",
      "Epoch 2/10\n",
      "196/196 [==============================] - 7s 38ms/step - loss: 0.3222 - accuracy: 0.8644 - val_loss: 0.3058 - val_accuracy: 0.8823\n",
      "Epoch 3/10\n",
      "196/196 [==============================] - 7s 37ms/step - loss: 0.2460 - accuracy: 0.9027 - val_loss: 0.3028 - val_accuracy: 0.8728\n",
      "Epoch 4/10\n",
      "196/196 [==============================] - 7s 37ms/step - loss: 0.2157 - accuracy: 0.9192 - val_loss: 0.2970 - val_accuracy: 0.8834\n",
      "Epoch 5/10\n",
      "196/196 [==============================] - 7s 37ms/step - loss: 0.1877 - accuracy: 0.9298 - val_loss: 0.3144 - val_accuracy: 0.8633\n",
      "Epoch 6/10\n",
      "196/196 [==============================] - 7s 38ms/step - loss: 0.1672 - accuracy: 0.9389 - val_loss: 0.3327 - val_accuracy: 0.8611\n",
      "Epoch 7/10\n",
      "196/196 [==============================] - 7s 38ms/step - loss: 0.1648 - accuracy: 0.9388 - val_loss: 0.4198 - val_accuracy: 0.8687\n",
      "Epoch 8/10\n",
      "196/196 [==============================] - 7s 37ms/step - loss: 0.1385 - accuracy: 0.9487 - val_loss: 0.3859 - val_accuracy: 0.8711\n",
      "Epoch 9/10\n",
      "196/196 [==============================] - 7s 38ms/step - loss: 0.2914 - accuracy: 0.8750 - val_loss: 0.3920 - val_accuracy: 0.8320\n",
      "Epoch 10/10\n",
      "196/196 [==============================] - 7s 38ms/step - loss: 0.2150 - accuracy: 0.9165 - val_loss: 0.4142 - val_accuracy: 0.8118\n"
     ]
    }
   ],
   "source": [
    "%time\n",
    "\n",
    "# Treinando o modelo\n",
    "hist = model2.fit(x_train, y_train, validation_data=(x_validation, y_validation), batch_size = 128, epochs = 10)"
   ]
  },
  {
   "cell_type": "code",
   "execution_count": 22,
   "metadata": {},
   "outputs": [
    {
     "name": "stdout",
     "output_type": "stream",
     "text": [
      "469/469 [==============================] - 5s 10ms/step - loss: 0.4350 - accuracy: 0.8008\n",
      "Loss: 43.50\n",
      "Accuracy: 80.08\n"
     ]
    }
   ],
   "source": [
    "# Avaliando o modelo\n",
    "loss, accuracy = model2.evaluate(x_test, y_test)\n",
    "\n",
    "exibir_performance_dados_teste(loss, accuracy)"
   ]
  },
  {
   "cell_type": "code",
   "execution_count": 23,
   "metadata": {},
   "outputs": [
    {
     "data": {
      "image/png": "[encoded data removed]",
      "text/plain": [
       "<Figure size 432x288 with 1 Axes>"
      ]
     },
     "metadata": {
      "needs_background": "light"
     },
     "output_type": "display_data"
    }
   ],
   "source": [
    "# Exibindo a evolução dos dados de treino e validação\n",
    "exibir_evolucao_treino_validacao(hist, 'accuracy', 'val_accuracy')"
   ]
  },
  {
   "cell_type": "markdown",
   "metadata": {},
   "source": [
    "## LSTM como CNN e Técnicas de regularização"
   ]
  },
  {
   "cell_type": "markdown",
   "metadata": {},
   "source": [
    "O objetivo do terceiro modelo é aplicar uma camada de CNN e mais uma técnica de regularização"
   ]
  },
  {
   "cell_type": "code",
   "execution_count": 27,
   "metadata": {},
   "outputs": [],
   "source": [
    "# Criando o modelo\n",
    "model3 = Sequential()\n",
    "\n",
    "# Parâmetros:\n",
    "# input_dim = tamanho do vocabulário do dataset. Nesse caso, 5000.\n",
    "# output_dim = tamanho do vetor para representar cada palavra.\n",
    "# input_length = tamanho de cada vetor de saída.\n",
    "model3.add(Embedding(input_dim = 5000, output_dim = 64, input_length = 500))\n",
    "\n",
    "# Camada de convolução\n",
    "model3.add(Conv1D(filters = 64, kernel_size = 3, padding = 'same', activation = 'relu'))\n",
    "\n",
    "# Camada de pooling\n",
    "model3.add(MaxPool1D(pool_size = 2))\n",
    "\n",
    "# Camada de Dropout com 25%\n",
    "model3.add(Dropout(0.25))\n",
    "\n",
    "# Camada LSTM com 100 neurônios, 1 camada de dropout antes e uma depois, ambas com 25% de drop\n",
    "#model3.add(LSTM(100, dropout = 0.25, recurrent_dropout = 0.25))\n",
    "model3.add(LSTM(100))\n",
    "\n",
    "# Camada de Dropout com 25%\n",
    "model3.add(Dropout(0.25))\n",
    "\n",
    "# Última camada com 1 neurônio de saída e função de ativação sigmoid\n",
    "model3.add(Dense(units = 1, activation = 'sigmoid'))"
   ]
  },
  {
   "cell_type": "code",
   "execution_count": 28,
   "metadata": {},
   "outputs": [],
   "source": [
    "# Compilando o modelo\n",
    "model3.compile(loss = 'binary_crossentropy', optimizer = 'adam', metrics = ['accuracy'])"
   ]
  },
  {
   "cell_type": "code",
   "execution_count": 29,
   "metadata": {},
   "outputs": [
    {
     "name": "stdout",
     "output_type": "stream",
     "text": [
      "Model: \"sequential_5\"\n",
      "_________________________________________________________________\n",
      "Layer (type)                 Output Shape              Param #   \n",
      "=================================================================\n",
      "embedding_5 (Embedding)      (None, 500, 64)           320000    \n",
      "_________________________________________________________________\n",
      "conv1d_2 (Conv1D)            (None, 500, 64)           12352     \n",
      "_________________________________________________________________\n",
      "max_pooling1d_2 (MaxPooling1 (None, 250, 64)           0         \n",
      "_________________________________________________________________\n",
      "dropout_6 (Dropout)          (None, 250, 64)           0         \n",
      "_________________________________________________________________\n",
      "lstm_5 (LSTM)                (None, 100)               66000     \n",
      "_________________________________________________________________\n",
      "dropout_7 (Dropout)          (None, 100)               0         \n",
      "_________________________________________________________________\n",
      "dense_5 (Dense)              (None, 1)                 101       \n",
      "=================================================================\n",
      "Total params: 398,453\n",
      "Trainable params: 398,453\n",
      "Non-trainable params: 0\n",
      "_________________________________________________________________\n"
     ]
    }
   ],
   "source": [
    "# Exibindo a arquitetura da rede\n",
    "model3.summary()"
   ]
  },
  {
   "cell_type": "code",
   "execution_count": 30,
   "metadata": {},
   "outputs": [
    {
     "name": "stdout",
     "output_type": "stream",
     "text": [
      "Epoch 1/100\n",
      "391/391 [==============================] - 9s 24ms/step - loss: 0.4131 - accuracy: 0.7997 - val_loss: 0.2752 - val_accuracy: 0.8867\n",
      "Epoch 2/100\n",
      "391/391 [==============================] - 9s 23ms/step - loss: 0.2475 - accuracy: 0.9058 - val_loss: 0.2694 - val_accuracy: 0.8883\n",
      "Epoch 3/100\n",
      "391/391 [==============================] - 9s 23ms/step - loss: 0.1888 - accuracy: 0.9303 - val_loss: 0.3321 - val_accuracy: 0.8775\n",
      "Epoch 4/100\n",
      "391/391 [==============================] - 9s 23ms/step - loss: 0.1561 - accuracy: 0.9431 - val_loss: 0.2961 - val_accuracy: 0.8831\n",
      "Epoch 5/100\n",
      "391/391 [==============================] - 9s 22ms/step - loss: 0.1310 - accuracy: 0.9548 - val_loss: 0.3410 - val_accuracy: 0.8841\n",
      "Epoch 6/100\n",
      "391/391 [==============================] - 9s 23ms/step - loss: 0.1097 - accuracy: 0.9617 - val_loss: 0.3864 - val_accuracy: 0.8709\n",
      "Epoch 00006: early stopping\n"
     ]
    }
   ],
   "source": [
    "# Definindo o EarlyStopping e treinando o modelo\n",
    "monitor = EarlyStopping(monitor = 'val_loss', min_delta=1e-1, patience = 5, verbose = 3, mode = 'auto')\n",
    "\n",
    "hist = model3.fit(x_train,\n",
    "                  y_train,\n",
    "                  validation_data = (x_validation, y_validation),\n",
    "                  callbacks = [monitor],\n",
    "                  batch_size = 64, \n",
    "                  epochs = 100)"
   ]
  },
  {
   "cell_type": "code",
   "execution_count": 31,
   "metadata": {},
   "outputs": [
    {
     "name": "stdout",
     "output_type": "stream",
     "text": [
      "469/469 [==============================] - 3s 7ms/step - loss: 0.4061 - accuracy: 0.8651\n",
      "Loss: 40.61\n",
      "Accuracy: 86.51\n"
     ]
    }
   ],
   "source": [
    "# Avaliando o modelo\n",
    "loss, accuracy = model3.evaluate(x_test, y_test)\n",
    "\n",
    "exibir_performance_dados_teste(loss, accuracy)"
   ]
  },
  {
   "cell_type": "code",
   "execution_count": 32,
   "metadata": {},
   "outputs": [
    {
     "data": {
      "image/png": "[encoded data removed]",
      "text/plain": [
       "<Figure size 432x288 with 1 Axes>"
      ]
     },
     "metadata": {
      "needs_background": "light"
     },
     "output_type": "display_data"
    }
   ],
   "source": [
    "#xibindo a evolução do modelo\n",
    "exibir_evolucao_treino_validacao(hist, 'accuracy', 'val_accuracy')"
   ]
  },
  {
   "cell_type": "markdown",
   "metadata": {},
   "source": [
    "Com 86,51% de acurácia nos dados de teste, o último modelo (model3) foi o que apresentou o melhor resultado. Utilizando EarlyStopping, consegui obter o melhor modelo com apenas 6 epochs."
   ]
  }
 ],
 "metadata": {
  "kernelspec": {
   "display_name": "Python 3",
   "language": "python",
   "name": "python3"
  },
  "language_info": {
   "codemirror_mode": {
    "name": "ipython",
    "version": 3
   },
   "file_extension": ".py",
   "mimetype": "text/x-python",
   "name": "python",
   "nbconvert_exporter": "python",
   "pygments_lexer": "ipython3",
   "version": "3.8.3"
  }
 },
 "nbformat": 4,
 "nbformat_minor": 4
}
